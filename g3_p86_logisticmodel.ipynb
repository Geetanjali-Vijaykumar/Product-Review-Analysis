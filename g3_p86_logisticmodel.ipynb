{
 "cells": [
  {
   "cell_type": "code",
   "execution_count": 55,
   "id": "994670ea",
   "metadata": {
    "ExecuteTime": {
     "end_time": "2022-01-14T13:00:42.739932Z",
     "start_time": "2022-01-14T13:00:42.720931Z"
    }
   },
   "outputs": [],
   "source": [
    "import gensim\n",
    "# import torch\n",
    "# import tensorflow as tf\n",
    "from sklearn.model_selection import train_test_split, cross_val_score\n",
    "from sklearn.metrics import confusion_matrix, roc_auc_score, roc_curve, classification_report\n",
    "import pandas as pd\n",
    "import numpy as np\n",
    "import scipy as spy\n",
    "import matplotlib.pyplot as plt\n",
    "import seaborn as sns\n",
    "import plotly.express as px\n",
    "import pickle\n",
    "import joblib\n",
    "\n",
    "plt.rcParams['figure.figsize'] = (10,8)\n",
    "plt.rcParams['font.size'] = 13"
   ]
  },
  {
   "cell_type": "code",
   "execution_count": 56,
   "id": "729bebb9",
   "metadata": {
    "ExecuteTime": {
     "end_time": "2022-01-14T13:00:42.755933Z",
     "start_time": "2022-01-14T13:00:42.741932Z"
    }
   },
   "outputs": [],
   "source": [
    "from sklearn.linear_model import LogisticRegression\n",
    "from sklearn.naive_bayes import BernoulliNB, MultinomialNB, GaussianNB\n",
    "from sklearn.linear_model import SGDClassifier\n",
    "from sklearn.pipeline import Pipeline, make_pipeline\n",
    "from sklearn.feature_extraction.text import CountVectorizer, TfidfVectorizer\n",
    "from sklearn.model_selection import GridSearchCV, cross_val_score\n",
    "from sklearn.metrics import precision_recall_curve, roc_auc_score, roc_curve, f1_score\n",
    "\n",
    "import joblib\n",
    "import pickle"
   ]
  },
  {
   "cell_type": "code",
   "execution_count": 57,
   "id": "8e189d97",
   "metadata": {
    "ExecuteTime": {
     "end_time": "2022-01-14T13:00:42.802935Z",
     "start_time": "2022-01-14T13:00:42.758934Z"
    }
   },
   "outputs": [],
   "source": [
    "reviews_oversampled = pd.read_csv('oneplus_labeled_data_oversampled.csv')"
   ]
  },
  {
   "cell_type": "code",
   "execution_count": 58,
   "id": "54dd23a7",
   "metadata": {
    "ExecuteTime": {
     "end_time": "2022-01-14T13:00:42.818938Z",
     "start_time": "2022-01-14T13:00:42.805937Z"
    }
   },
   "outputs": [
    {
     "data": {
      "text/html": [
       "<div>\n",
       "<style scoped>\n",
       "    .dataframe tbody tr th:only-of-type {\n",
       "        vertical-align: middle;\n",
       "    }\n",
       "\n",
       "    .dataframe tbody tr th {\n",
       "        vertical-align: top;\n",
       "    }\n",
       "\n",
       "    .dataframe thead th {\n",
       "        text-align: right;\n",
       "    }\n",
       "</style>\n",
       "<table border=\"1\" class=\"dataframe\">\n",
       "  <thead>\n",
       "    <tr style=\"text-align: right;\">\n",
       "      <th></th>\n",
       "      <th>lemmatized</th>\n",
       "      <th>Sentiment</th>\n",
       "    </tr>\n",
       "  </thead>\n",
       "  <tbody>\n",
       "    <tr>\n",
       "      <th>5608</th>\n",
       "      <td>camera bad</td>\n",
       "      <td>Negative</td>\n",
       "    </tr>\n",
       "    <tr>\n",
       "      <th>5609</th>\n",
       "      <td>camera stop work month fast charging isn t wor...</td>\n",
       "      <td>Negative</td>\n",
       "    </tr>\n",
       "    <tr>\n",
       "      <th>5610</th>\n",
       "      <td>set clone app whatsapp doneclone whatsapp pr k...</td>\n",
       "      <td>Negative</td>\n",
       "    </tr>\n",
       "    <tr>\n",
       "      <th>5611</th>\n",
       "      <td>phone lag 22 storage</td>\n",
       "      <td>Negative</td>\n",
       "    </tr>\n",
       "    <tr>\n",
       "      <th>5612</th>\n",
       "      <td>bhai koi bhi plus nord 2 ko mt lena bahut jyad...</td>\n",
       "      <td>Negative</td>\n",
       "    </tr>\n",
       "  </tbody>\n",
       "</table>\n",
       "</div>"
      ],
      "text/plain": [
       "                                             lemmatized Sentiment\n",
       "5608                                         camera bad  Negative\n",
       "5609  camera stop work month fast charging isn t wor...  Negative\n",
       "5610  set clone app whatsapp doneclone whatsapp pr k...  Negative\n",
       "5611                               phone lag 22 storage  Negative\n",
       "5612  bhai koi bhi plus nord 2 ko mt lena bahut jyad...  Negative"
      ]
     },
     "execution_count": 58,
     "metadata": {},
     "output_type": "execute_result"
    }
   ],
   "source": [
    "reviews_oversampled.tail()"
   ]
  },
  {
   "cell_type": "code",
   "execution_count": 59,
   "id": "a8e9d654",
   "metadata": {
    "ExecuteTime": {
     "end_time": "2022-01-14T13:00:42.866941Z",
     "start_time": "2022-01-14T13:00:42.825938Z"
    }
   },
   "outputs": [
    {
     "data": {
      "text/html": [
       "<div>\n",
       "<style scoped>\n",
       "    .dataframe tbody tr th:only-of-type {\n",
       "        vertical-align: middle;\n",
       "    }\n",
       "\n",
       "    .dataframe tbody tr th {\n",
       "        vertical-align: top;\n",
       "    }\n",
       "\n",
       "    .dataframe thead th {\n",
       "        text-align: right;\n",
       "    }\n",
       "</style>\n",
       "<table border=\"1\" class=\"dataframe\">\n",
       "  <thead>\n",
       "    <tr style=\"text-align: right;\">\n",
       "      <th></th>\n",
       "      <th>lemmatized</th>\n",
       "      <th>Sentiment</th>\n",
       "    </tr>\n",
       "  </thead>\n",
       "  <tbody>\n",
       "    <tr>\n",
       "      <th>count</th>\n",
       "      <td>5602</td>\n",
       "      <td>5613</td>\n",
       "    </tr>\n",
       "    <tr>\n",
       "      <th>unique</th>\n",
       "      <td>4687</td>\n",
       "      <td>3</td>\n",
       "    </tr>\n",
       "    <tr>\n",
       "      <th>top</th>\n",
       "      <td>good product</td>\n",
       "      <td>Positive</td>\n",
       "    </tr>\n",
       "    <tr>\n",
       "      <th>freq</th>\n",
       "      <td>12</td>\n",
       "      <td>2024</td>\n",
       "    </tr>\n",
       "  </tbody>\n",
       "</table>\n",
       "</div>"
      ],
      "text/plain": [
       "          lemmatized Sentiment\n",
       "count           5602      5613\n",
       "unique          4687         3\n",
       "top     good product  Positive\n",
       "freq              12      2024"
      ]
     },
     "execution_count": 59,
     "metadata": {},
     "output_type": "execute_result"
    }
   ],
   "source": [
    "reviews_oversampled.describe()"
   ]
  },
  {
   "cell_type": "code",
   "execution_count": 60,
   "id": "f4fb8b27",
   "metadata": {
    "ExecuteTime": {
     "end_time": "2022-01-14T13:00:42.899944Z",
     "start_time": "2022-01-14T13:00:42.868941Z"
    }
   },
   "outputs": [
    {
     "data": {
      "text/plain": [
       "lemmatized    11\n",
       "Sentiment      0\n",
       "dtype: int64"
      ]
     },
     "execution_count": 60,
     "metadata": {},
     "output_type": "execute_result"
    }
   ],
   "source": [
    "reviews_oversampled.isnull().sum()"
   ]
  },
  {
   "cell_type": "code",
   "execution_count": 61,
   "id": "ecb0d265",
   "metadata": {
    "ExecuteTime": {
     "end_time": "2022-01-14T13:00:42.930944Z",
     "start_time": "2022-01-14T13:00:42.905946Z"
    }
   },
   "outputs": [],
   "source": [
    "reviews_oversampled.dropna(inplace= True)\n",
    "reviews_oversampled.reset_index(inplace = True)\n",
    "reviews_oversampled.drop('index', axis = 1, inplace = True)"
   ]
  },
  {
   "cell_type": "code",
   "execution_count": 62,
   "id": "856e8bcd",
   "metadata": {
    "ExecuteTime": {
     "end_time": "2022-01-14T13:00:42.946948Z",
     "start_time": "2022-01-14T13:00:42.935950Z"
    }
   },
   "outputs": [
    {
     "data": {
      "text/plain": [
       "lemmatized    0\n",
       "Sentiment     0\n",
       "dtype: int64"
      ]
     },
     "execution_count": 62,
     "metadata": {},
     "output_type": "execute_result"
    }
   ],
   "source": [
    "reviews_oversampled.isnull().sum()"
   ]
  },
  {
   "cell_type": "code",
   "execution_count": 63,
   "id": "01452ac8",
   "metadata": {
    "ExecuteTime": {
     "end_time": "2022-01-14T13:00:42.978949Z",
     "start_time": "2022-01-14T13:00:42.949948Z"
    }
   },
   "outputs": [
    {
     "data": {
      "text/html": [
       "<div>\n",
       "<style scoped>\n",
       "    .dataframe tbody tr th:only-of-type {\n",
       "        vertical-align: middle;\n",
       "    }\n",
       "\n",
       "    .dataframe tbody tr th {\n",
       "        vertical-align: top;\n",
       "    }\n",
       "\n",
       "    .dataframe thead th {\n",
       "        text-align: right;\n",
       "    }\n",
       "</style>\n",
       "<table border=\"1\" class=\"dataframe\">\n",
       "  <thead>\n",
       "    <tr style=\"text-align: right;\">\n",
       "      <th></th>\n",
       "      <th>lemmatized</th>\n",
       "      <th>Sentiment</th>\n",
       "    </tr>\n",
       "  </thead>\n",
       "  <tbody>\n",
       "    <tr>\n",
       "      <th>5597</th>\n",
       "      <td>camera bad</td>\n",
       "      <td>Negative</td>\n",
       "    </tr>\n",
       "    <tr>\n",
       "      <th>5598</th>\n",
       "      <td>camera stop work month fast charging isn t wor...</td>\n",
       "      <td>Negative</td>\n",
       "    </tr>\n",
       "    <tr>\n",
       "      <th>5599</th>\n",
       "      <td>set clone app whatsapp doneclone whatsapp pr k...</td>\n",
       "      <td>Negative</td>\n",
       "    </tr>\n",
       "    <tr>\n",
       "      <th>5600</th>\n",
       "      <td>phone lag 22 storage</td>\n",
       "      <td>Negative</td>\n",
       "    </tr>\n",
       "    <tr>\n",
       "      <th>5601</th>\n",
       "      <td>bhai koi bhi plus nord 2 ko mt lena bahut jyad...</td>\n",
       "      <td>Negative</td>\n",
       "    </tr>\n",
       "  </tbody>\n",
       "</table>\n",
       "</div>"
      ],
      "text/plain": [
       "                                             lemmatized Sentiment\n",
       "5597                                         camera bad  Negative\n",
       "5598  camera stop work month fast charging isn t wor...  Negative\n",
       "5599  set clone app whatsapp doneclone whatsapp pr k...  Negative\n",
       "5600                               phone lag 22 storage  Negative\n",
       "5601  bhai koi bhi plus nord 2 ko mt lena bahut jyad...  Negative"
      ]
     },
     "execution_count": 63,
     "metadata": {},
     "output_type": "execute_result"
    }
   ],
   "source": [
    "reviews_oversampled.tail()"
   ]
  },
  {
   "cell_type": "code",
   "execution_count": 64,
   "id": "9573b2e8",
   "metadata": {
    "ExecuteTime": {
     "end_time": "2022-01-14T13:00:43.218967Z",
     "start_time": "2022-01-14T13:00:42.983952Z"
    }
   },
   "outputs": [
    {
     "data": {
      "text/plain": [
       "<AxesSubplot:xlabel='Sentiment', ylabel='count'>"
      ]
     },
     "execution_count": 64,
     "metadata": {},
     "output_type": "execute_result"
    },
    {
     "data": {
      "image/png": "[encoded data removed]",
      "text/plain": [
       "<Figure size 720x576 with 1 Axes>"
      ]
     },
     "metadata": {
      "needs_background": "light"
     },
     "output_type": "display_data"
    }
   ],
   "source": [
    "sns.countplot(x = reviews_oversampled['Sentiment'])"
   ]
  },
  {
   "cell_type": "code",
   "execution_count": 65,
   "id": "785ef748",
   "metadata": {
    "ExecuteTime": {
     "end_time": "2022-01-14T13:00:43.247740Z",
     "start_time": "2022-01-14T13:00:43.221968Z"
    }
   },
   "outputs": [
    {
     "data": {
      "text/plain": [
       "915"
      ]
     },
     "execution_count": 65,
     "metadata": {},
     "output_type": "execute_result"
    }
   ],
   "source": [
    "reviews_oversampled.duplicated().sum()"
   ]
  },
  {
   "cell_type": "code",
   "execution_count": 66,
   "id": "4aded4bd",
   "metadata": {
    "ExecuteTime": {
     "end_time": "2022-01-14T13:00:43.487752Z",
     "start_time": "2022-01-14T13:00:43.249740Z"
    }
   },
   "outputs": [
    {
     "data": {
      "text/plain": [
       "<AxesSubplot:xlabel='Sentiment', ylabel='count'>"
      ]
     },
     "execution_count": 66,
     "metadata": {},
     "output_type": "execute_result"
    },
    {
     "data": {
      "image/png": "[encoded data removed]",
      "text/plain": [
       "<Figure size 576x360 with 1 Axes>"
      ]
     },
     "metadata": {
      "needs_background": "light"
     },
     "output_type": "display_data"
    }
   ],
   "source": [
    "plt.figure(figsize= (8,5))\n",
    "sns.countplot(x= reviews_oversampled['Sentiment'][reviews_oversampled.duplicated()])"
   ]
  },
  {
   "cell_type": "code",
   "execution_count": 67,
   "id": "c1444fa0",
   "metadata": {
    "ExecuteTime": {
     "end_time": "2022-01-14T13:00:43.503753Z",
     "start_time": "2022-01-14T13:00:43.490755Z"
    }
   },
   "outputs": [],
   "source": [
    "reviews_oversampled_1 = reviews_oversampled.copy()"
   ]
  },
  {
   "cell_type": "code",
   "execution_count": 68,
   "id": "276b2b81",
   "metadata": {
    "ExecuteTime": {
     "end_time": "2022-01-14T13:00:43.518927Z",
     "start_time": "2022-01-14T13:00:43.506755Z"
    }
   },
   "outputs": [],
   "source": [
    "def encoding_labels(dataframe, column_name):\n",
    "    unique_labels = list(dataframe[column_name].unique())\n",
    "    unique_labels.sort()\n",
    "    encode_dict = dict(zip(unique_labels, range(len(unique_labels))))\n",
    "    dataframe[column_name] = dataframe[column_name].map(encode_dict)\n",
    "    return encode_dict"
   ]
  },
  {
   "cell_type": "code",
   "execution_count": 69,
   "id": "3a7e61b9",
   "metadata": {
    "ExecuteTime": {
     "end_time": "2022-01-14T13:00:43.534963Z",
     "start_time": "2022-01-14T13:00:43.521930Z"
    }
   },
   "outputs": [],
   "source": [
    "#label_encode_dict = encoding_labels(reviews_oversampled_1, 'Sentiment')\n",
    "#label_encode_dict"
   ]
  },
  {
   "cell_type": "code",
   "execution_count": 70,
   "id": "1860257b",
   "metadata": {
    "ExecuteTime": {
     "end_time": "2022-01-14T13:00:43.566968Z",
     "start_time": "2022-01-14T13:00:43.537958Z"
    }
   },
   "outputs": [
    {
     "data": {
      "text/html": [
       "<div>\n",
       "<style scoped>\n",
       "    .dataframe tbody tr th:only-of-type {\n",
       "        vertical-align: middle;\n",
       "    }\n",
       "\n",
       "    .dataframe tbody tr th {\n",
       "        vertical-align: top;\n",
       "    }\n",
       "\n",
       "    .dataframe thead th {\n",
       "        text-align: right;\n",
       "    }\n",
       "</style>\n",
       "<table border=\"1\" class=\"dataframe\">\n",
       "  <thead>\n",
       "    <tr style=\"text-align: right;\">\n",
       "      <th></th>\n",
       "      <th>lemmatized</th>\n",
       "      <th>Sentiment</th>\n",
       "    </tr>\n",
       "  </thead>\n",
       "  <tbody>\n",
       "    <tr>\n",
       "      <th>500</th>\n",
       "      <td>phone good switch pixel 2 experience clean ove...</td>\n",
       "      <td>Positive</td>\n",
       "    </tr>\n",
       "    <tr>\n",
       "      <th>501</th>\n",
       "      <td>write review 48 hour usage plus device extensi...</td>\n",
       "      <td>Positive</td>\n",
       "    </tr>\n",
       "    <tr>\n",
       "      <th>502</th>\n",
       "      <td>bad product disappointed dial receive mobile b...</td>\n",
       "      <td>Negative</td>\n",
       "    </tr>\n",
       "    <tr>\n",
       "      <th>503</th>\n",
       "      <td>s near perfect phone use like 90 people use da...</td>\n",
       "      <td>Neutral</td>\n",
       "    </tr>\n",
       "    <tr>\n",
       "      <th>504</th>\n",
       "      <td>camera vivo v 21 se good hai charger bahut hi ...</td>\n",
       "      <td>Neutral</td>\n",
       "    </tr>\n",
       "    <tr>\n",
       "      <th>505</th>\n",
       "      <td>oneplus mobile confused decision buy finally d...</td>\n",
       "      <td>Positive</td>\n",
       "    </tr>\n",
       "    <tr>\n",
       "      <th>506</th>\n",
       "      <td>device allrounder tick box like 1 design good ...</td>\n",
       "      <td>Positive</td>\n",
       "    </tr>\n",
       "    <tr>\n",
       "      <th>507</th>\n",
       "      <td>record feature inform party big negative play ...</td>\n",
       "      <td>Neutral</td>\n",
       "    </tr>\n",
       "    <tr>\n",
       "      <th>508</th>\n",
       "      <td>bad product segmentplz guy don t buy s persona...</td>\n",
       "      <td>Negative</td>\n",
       "    </tr>\n",
       "    <tr>\n",
       "      <th>509</th>\n",
       "      <td>heating issue mobile reach 47 c play bgmi heat...</td>\n",
       "      <td>Negative</td>\n",
       "    </tr>\n",
       "    <tr>\n",
       "      <th>510</th>\n",
       "      <td>good phone lot noise camera night mode good ma...</td>\n",
       "      <td>Positive</td>\n",
       "    </tr>\n",
       "    <tr>\n",
       "      <th>511</th>\n",
       "      <td>impression great worth upgrade 30 k suggest do...</td>\n",
       "      <td>Positive</td>\n",
       "    </tr>\n",
       "    <tr>\n",
       "      <th>512</th>\n",
       "      <td>want phone lag future update phone phone come ...</td>\n",
       "      <td>Positive</td>\n",
       "    </tr>\n",
       "    <tr>\n",
       "      <th>513</th>\n",
       "      <td>let know look buy phone gaming phone default r...</td>\n",
       "      <td>Positive</td>\n",
       "    </tr>\n",
       "    <tr>\n",
       "      <th>514</th>\n",
       "      <td>overall decent value money phone post experien...</td>\n",
       "      <td>Neutral</td>\n",
       "    </tr>\n",
       "    <tr>\n",
       "      <th>515</th>\n",
       "      <td>pro 1 camera good 2 heptic feedback good 3 hea...</td>\n",
       "      <td>Positive</td>\n",
       "    </tr>\n",
       "    <tr>\n",
       "      <th>516</th>\n",
       "      <td>good phone budget experience day use design gr...</td>\n",
       "      <td>Positive</td>\n",
       "    </tr>\n",
       "    <tr>\n",
       "      <th>517</th>\n",
       "      <td>bring phone exchange oneplus 6 feel oneplus 6 ...</td>\n",
       "      <td>Neutral</td>\n",
       "    </tr>\n",
       "    <tr>\n",
       "      <th>518</th>\n",
       "      <td>phone perfect sense plus finally arrive sub fl...</td>\n",
       "      <td>Positive</td>\n",
       "    </tr>\n",
       "    <tr>\n",
       "      <th>519</th>\n",
       "      <td>plus 6 2019 enjoy oneplus 6 great intuitive ox...</td>\n",
       "      <td>Positive</td>\n",
       "    </tr>\n",
       "  </tbody>\n",
       "</table>\n",
       "</div>"
      ],
      "text/plain": [
       "                                            lemmatized Sentiment\n",
       "500  phone good switch pixel 2 experience clean ove...  Positive\n",
       "501  write review 48 hour usage plus device extensi...  Positive\n",
       "502  bad product disappointed dial receive mobile b...  Negative\n",
       "503  s near perfect phone use like 90 people use da...   Neutral\n",
       "504  camera vivo v 21 se good hai charger bahut hi ...   Neutral\n",
       "505  oneplus mobile confused decision buy finally d...  Positive\n",
       "506  device allrounder tick box like 1 design good ...  Positive\n",
       "507  record feature inform party big negative play ...   Neutral\n",
       "508  bad product segmentplz guy don t buy s persona...  Negative\n",
       "509  heating issue mobile reach 47 c play bgmi heat...  Negative\n",
       "510  good phone lot noise camera night mode good ma...  Positive\n",
       "511  impression great worth upgrade 30 k suggest do...  Positive\n",
       "512  want phone lag future update phone phone come ...  Positive\n",
       "513  let know look buy phone gaming phone default r...  Positive\n",
       "514  overall decent value money phone post experien...   Neutral\n",
       "515  pro 1 camera good 2 heptic feedback good 3 hea...  Positive\n",
       "516  good phone budget experience day use design gr...  Positive\n",
       "517  bring phone exchange oneplus 6 feel oneplus 6 ...   Neutral\n",
       "518  phone perfect sense plus finally arrive sub fl...  Positive\n",
       "519  plus 6 2019 enjoy oneplus 6 great intuitive ox...  Positive"
      ]
     },
     "execution_count": 70,
     "metadata": {},
     "output_type": "execute_result"
    }
   ],
   "source": [
    "reviews_oversampled_1.iloc[500:520,:]"
   ]
  },
  {
   "cell_type": "code",
   "execution_count": 71,
   "id": "e91bdfed",
   "metadata": {
    "ExecuteTime": {
     "end_time": "2022-01-14T13:00:43.582968Z",
     "start_time": "2022-01-14T13:00:43.569969Z"
    }
   },
   "outputs": [],
   "source": [
    "x_train_over, x_test_over, y_train_over, y_test_over = train_test_split(reviews_oversampled_1['lemmatized'], \n",
    "        reviews_oversampled_1['Sentiment'], test_size = 0.2, random_state= 15 )\n",
    "x_train_over, x_val_over, y_train_over, y_val_over = train_test_split(x_train_over, y_train_over, test_size=0.25, random_state= 15)"
   ]
  },
  {
   "cell_type": "code",
   "execution_count": 72,
   "id": "dcad3ef6",
   "metadata": {
    "ExecuteTime": {
     "end_time": "2022-01-14T13:00:43.598968Z",
     "start_time": "2022-01-14T13:00:43.584970Z"
    }
   },
   "outputs": [
    {
     "data": {
      "text/plain": [
       "((3360,), (1121,), (1121,))"
      ]
     },
     "execution_count": 72,
     "metadata": {},
     "output_type": "execute_result"
    }
   ],
   "source": [
    "x_train_over.shape, x_test_over.shape, x_val_over.shape"
   ]
  },
  {
   "cell_type": "code",
   "execution_count": 73,
   "id": "a2bf970e",
   "metadata": {
    "ExecuteTime": {
     "end_time": "2022-01-14T13:00:43.630971Z",
     "start_time": "2022-01-14T13:00:43.601976Z"
    }
   },
   "outputs": [
    {
     "data": {
      "text/plain": [
       "(Positive    1222\n",
       " Neutral     1188\n",
       " Negative     950\n",
       " Name: Sentiment, dtype: int64,\n",
       " Positive    417\n",
       " Neutral     388\n",
       " Negative    316\n",
       " Name: Sentiment, dtype: int64,\n",
       " Neutral     387\n",
       " Positive    385\n",
       " Negative    349\n",
       " Name: Sentiment, dtype: int64)"
      ]
     },
     "execution_count": 73,
     "metadata": {},
     "output_type": "execute_result"
    }
   ],
   "source": [
    "y_train_over.value_counts(), y_test_over.value_counts(), y_val_over.value_counts()"
   ]
  },
  {
   "cell_type": "code",
   "execution_count": 74,
   "id": "44f827b2",
   "metadata": {
    "ExecuteTime": {
     "end_time": "2022-01-14T13:00:44.126925Z",
     "start_time": "2022-01-14T13:00:43.632972Z"
    }
   },
   "outputs": [
    {
     "data": {
      "text/plain": [
       "Pipeline(steps=[('countvectorizer', CountVectorizer()),\n",
       "                ('logisticregression',\n",
       "                 LogisticRegression(C=0.5, max_iter=500, tol=0.001))])"
      ]
     },
     "execution_count": 74,
     "metadata": {},
     "output_type": "execute_result"
    }
   ],
   "source": [
    "pipe_lr  = make_pipeline(CountVectorizer(), LogisticRegression(C = 0.5, max_iter= 500, tol = 0.001 ))\n",
    "pipe_lr.fit(x_train_over, y_train_over)"
   ]
  },
  {
   "cell_type": "code",
   "execution_count": 75,
   "id": "5aadd106",
   "metadata": {
    "ExecuteTime": {
     "end_time": "2022-01-14T13:00:44.158925Z",
     "start_time": "2022-01-14T13:00:44.127925Z"
    }
   },
   "outputs": [
    {
     "data": {
      "text/plain": [
       "Pipeline(steps=[('countvectorizer', CountVectorizer()),\n",
       "                ('logisticregression',\n",
       "                 LogisticRegression(C=0.5, max_iter=500, tol=0.001))])"
      ]
     },
     "execution_count": 75,
     "metadata": {},
     "output_type": "execute_result"
    }
   ],
   "source": [
    "pipe_lr"
   ]
  },
  {
   "cell_type": "code",
   "execution_count": 76,
   "id": "820dbd27",
   "metadata": {
    "ExecuteTime": {
     "end_time": "2022-01-14T13:00:44.222936Z",
     "start_time": "2022-01-14T13:00:44.159925Z"
    }
   },
   "outputs": [
    {
     "data": {
      "text/plain": [
       "0.8537020517395183"
      ]
     },
     "execution_count": 76,
     "metadata": {},
     "output_type": "execute_result"
    }
   ],
   "source": [
    "pipe_lr.score(x_test_over,y_test_over)"
   ]
  },
  {
   "cell_type": "code",
   "execution_count": 77,
   "id": "2ed21a01",
   "metadata": {
    "ExecuteTime": {
     "end_time": "2022-01-14T13:00:44.238939Z",
     "start_time": "2022-01-14T13:00:44.229938Z"
    }
   },
   "outputs": [
    {
     "data": {
      "text/plain": [
       "array(['Neutral'], dtype=object)"
      ]
     },
     "execution_count": 77,
     "metadata": {},
     "output_type": "execute_result"
    }
   ],
   "source": [
    "ex1 = 'This product is amazing'\n",
    "pipe_lr.predict([ex1])"
   ]
  },
  {
   "cell_type": "code",
   "execution_count": 78,
   "id": "8e5f5069",
   "metadata": {
    "ExecuteTime": {
     "end_time": "2022-01-14T13:00:44.270941Z",
     "start_time": "2022-01-14T13:00:44.243940Z"
    }
   },
   "outputs": [
    {
     "data": {
      "text/plain": [
       "array([[0.1403586 , 0.56605249, 0.2935889 ]])"
      ]
     },
     "execution_count": 78,
     "metadata": {},
     "output_type": "execute_result"
    }
   ],
   "source": [
    "pipe_lr.predict_proba([ex1])"
   ]
  },
  {
   "cell_type": "code",
   "execution_count": 79,
   "id": "b0ed9538",
   "metadata": {
    "ExecuteTime": {
     "end_time": "2022-01-14T13:00:44.286941Z",
     "start_time": "2022-01-14T13:00:44.274943Z"
    }
   },
   "outputs": [
    {
     "data": {
      "text/plain": [
       "array(['Negative', 'Neutral', 'Positive'], dtype=object)"
      ]
     },
     "execution_count": 79,
     "metadata": {},
     "output_type": "execute_result"
    }
   ],
   "source": [
    "pipe_lr.classes_"
   ]
  },
  {
   "cell_type": "code",
   "execution_count": 80,
   "id": "431ab60e",
   "metadata": {
    "ExecuteTime": {
     "end_time": "2022-01-14T13:00:44.382929Z",
     "start_time": "2022-01-14T13:00:44.288943Z"
    }
   },
   "outputs": [],
   "source": [
    "import joblib \n",
    "pipeline_file = open(\"model_amazon_review.pkl\",\"wb\")\n",
    "joblib.dump(pipe_lr,pipeline_file)\n",
    "pipeline_file.close()"
   ]
  }
 ],
 "metadata": {
  "kernelspec": {
   "display_name": "Python 3",
   "language": "python",
   "name": "python3"
  },
  "language_info": {
   "codemirror_mode": {
    "name": "ipython",
    "version": 3
   },
   "file_extension": ".py",
   "mimetype": "text/x-python",
   "name": "python",
   "nbconvert_exporter": "python",
   "pygments_lexer": "ipython3",
   "version": "3.8.8"
  },
  "varInspector": {
   "cols": {
    "lenName": 16,
    "lenType": 16,
    "lenVar": 40
   },
   "kernels_config": {
    "python": {
     "delete_cmd_postfix": "",
     "delete_cmd_prefix": "del ",
     "library": "var_list.py",
     "varRefreshCmd": "print(var_dic_list())"
    },
    "r": {
     "delete_cmd_postfix": ") ",
     "delete_cmd_prefix": "rm(",
     "library": "var_list.r",
     "varRefreshCmd": "cat(var_dic_list()) "
    }
   },
   "types_to_exclude": [
    "module",
    "function",
    "builtin_function_or_method",
    "instance",
    "_Feature"
   ],
   "window_display": false
  }
 },
 "nbformat": 4,
 "nbformat_minor": 5
}
